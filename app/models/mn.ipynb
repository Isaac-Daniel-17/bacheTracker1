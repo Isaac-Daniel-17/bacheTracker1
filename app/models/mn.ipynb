{
 "cells": [
  {
   "cell_type": "code",
   "execution_count": 2,
   "metadata": {},
   "outputs": [],
   "source": [
    "from fastapi import FastAPI, UploadFile, File\n",
    "from ultralytics import YOLO\n",
    "import uvicorn\n",
    "from PIL import Image\n",
    "import matplotlib.pyplot as plt\n",
    "import io\n",
    "import torch\n",
    "import os"
   ]
  },
  {
   "cell_type": "code",
   "execution_count": 3,
   "metadata": {},
   "outputs": [],
   "source": [
    "model = YOLO('best.pt')"
   ]
  },
  {
   "cell_type": "code",
   "execution_count": 5,
   "metadata": {},
   "outputs": [
    {
     "name": "stdout",
     "output_type": "stream",
     "text": [
      "\n",
      "0: 640x640 (no detections), 225.1ms\n",
      "Speed: 0.0ms preprocess, 225.1ms inference, 0.0ms postprocess per image at shape (1, 3, 640, 640)\n"
     ]
    }
   ],
   "source": [
    "#Ejemplo de uso \n",
    "\n",
    "# Función para preprocesar la imagen\n",
    "def preprocess_image(image: Image.Image) -> Image.Image:\n",
    "    return image.resize((640, 640))\n",
    "\n",
    "# Cargar la imagen\n",
    "image_path = '.\\image_cu/10.jpg'  # Reemplaza con la ruta a tu imagen\n",
    "image = Image.open(image_path)\n",
    "image = preprocess_image(image)\n",
    "# Hacer predicciones\n",
    "results = model.predict(image)\n",
    "\n",
    "# Mostrar la imagen con las anotaciones\n",
    "for result in results:\n",
    "    result.show()  # Muestra la imagen con las anotaciones"
   ]
  }
 ],
 "metadata": {
  "kernelspec": {
   "display_name": "bacheI",
   "language": "python",
   "name": "python3"
  },
  "language_info": {
   "codemirror_mode": {
    "name": "ipython",
    "version": 3
   },
   "file_extension": ".py",
   "mimetype": "text/x-python",
   "name": "python",
   "nbconvert_exporter": "python",
   "pygments_lexer": "ipython3",
   "version": "3.9.20"
  }
 },
 "nbformat": 4,
 "nbformat_minor": 2
}
